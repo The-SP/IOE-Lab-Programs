{
 "cells": [
  {
   "cell_type": "markdown",
   "metadata": {},
   "source": [
    "## LDA & LSA\n",
    "\n",
    "**Using the above data analyze:**\n",
    "1. TFIDF and TruncatedSVD\n",
    "    - Use identiy the top 4 topics\n",
    "    - most predominant topic for each document\n",
    "2. CountVectorizer and LatentDirichletAllocation\n",
    "    - From each topic, extract the top features\n",
    "    - name of the top n topics\n",
    "    - Label each document with the most predominant topic\n",
    "\n",
    "\n",
    "**Classification using TFIDF vectors**\n",
    "- Explore and predict the sentiment using https://www.cs.cornell.edu/people/pabo/movie-review-data\n",
    "\n",
    "**Word Embedding**\n",
    "- Create count based word embedding\n",
    "- One hot embedding\n",
    "- Word embedding using Gensim\n",
    "    - Create a word2vec model using text from wikipedia https://en.wikipedia.org/wiki/Machine_learning\n",
    "    - what are possible preprocessing\n",
    "    - tokenization?\n",
    "    - what is the trained vocab?\n",
    "    - how to treat words not in vocab?\n",
    "    - length of vector?\n",
    "- interpret the output of the following"
   ]
  },
  {
   "cell_type": "code",
   "execution_count": 1,
   "metadata": {},
   "outputs": [],
   "source": [
    "my_docs = [\"The economic slowdown is becoming more severe\",\n",
    "           \"The movie was simply awesome\",\n",
    "           \"I like cooking my own food\",\n",
    "           \"Samsung is announcing a new technology\",\n",
    "           \"Machine Learning is an example of awesome technology\",\n",
    "           \"All of us were excited at the movie\",\n",
    "           \"We have to do more to reverse the economic slowdown\"]"
   ]
  },
  {
   "cell_type": "code",
   "execution_count": 32,
   "metadata": {},
   "outputs": [],
   "source": [
    "import warnings\n",
    "warnings.filterwarnings('ignore')\n",
    "\n",
    "from sklearn.feature_extraction.text import TfidfVectorizer\n",
    "from sklearn.decomposition  import TruncatedSVD\n",
    "from sklearn.preprocessing import normalize"
   ]
  },
  {
   "cell_type": "markdown",
   "metadata": {},
   "source": [
    "## TFIDF"
   ]
  },
  {
   "cell_type": "code",
   "execution_count": 24,
   "metadata": {},
   "outputs": [],
   "source": [
    "tfidf = TfidfVectorizer(stop_words='english')\n",
    "tfidf_matrix = tfidf.fit_transform(my_docs)"
   ]
  },
  {
   "cell_type": "code",
   "execution_count": 25,
   "metadata": {},
   "outputs": [
    {
     "data": {
      "text/plain": [
       "(7, 18)"
      ]
     },
     "execution_count": 25,
     "metadata": {},
     "output_type": "execute_result"
    }
   ],
   "source": [
    "tfidf_matrix.shape\n",
    "# (m, n) = (No of documents, No of features)"
   ]
  },
  {
   "cell_type": "code",
   "execution_count": 26,
   "metadata": {},
   "outputs": [
    {
     "data": {
      "text/plain": [
       "array(['announcing', 'awesome', 'cooking', 'economic', 'example',\n",
       "       'excited', 'food', 'learning', 'like', 'machine', 'movie', 'new',\n",
       "       'reverse', 'samsung', 'severe', 'simply', 'slowdown', 'technology'],\n",
       "      dtype=object)"
      ]
     },
     "execution_count": 26,
     "metadata": {},
     "output_type": "execute_result"
    }
   ],
   "source": [
    "# View the features\n",
    "features = tfidf.get_feature_names_out()\n",
    "features"
   ]
  },
  {
   "cell_type": "markdown",
   "metadata": {},
   "source": [
    "## TruncatedSVD"
   ]
  },
  {
   "cell_type": "code",
   "execution_count": 36,
   "metadata": {},
   "outputs": [
    {
     "name": "stdout",
     "output_type": "stream",
     "text": [
      "Top 4 topics:\n",
      "Topic 1: economic, slowdown, severe, reverse\n",
      "Topic 2: movie, awesome, simply, excited\n",
      "Topic 3: technology, samsung, new, announcing\n",
      "Topic 4: like, cooking, food, excited\n"
     ]
    }
   ],
   "source": [
    "# Apply TruncatedSVD (LSA)\n",
    "n_topics = 4\n",
    "lsa_model = TruncatedSVD(n_components=n_topics)\n",
    "lsa_topic_matrix = lsa_model.fit_transform(tfidf_matrix)\n",
    "lsa_topic_matrix = normalize(lsa_topic_matrix, norm='l2')\n",
    "\n",
    "# Identify the top 4 topics\n",
    "top_topics = []\n",
    "for topic_idx in range(n_topics):\n",
    "    top_words_indices = lsa_model.components_[topic_idx].argsort()[::-1][:4]\n",
    "    top_words = [tfidf.get_feature_names_out()[index] for index in top_words_indices]\n",
    "    top_topics.append(top_words)\n",
    "\n",
    "print(\"Top 4 topics:\")\n",
    "for i, topic_words in enumerate(top_topics):\n",
    "    print(f\"Topic {i + 1}: {', '.join(topic_words)}\")"
   ]
  },
  {
   "cell_type": "code",
   "execution_count": 35,
   "metadata": {},
   "outputs": [
    {
     "name": "stdout",
     "output_type": "stream",
     "text": [
      "\n",
      "Most Predominant Topic for Each Document:\n",
      "Document 1: Topic 1\n",
      "Document 2: Topic 2\n",
      "Document 3: Topic 4\n",
      "Document 4: Topic 3\n",
      "Document 5: Topic 3\n",
      "Document 6: Topic 2\n",
      "Document 7: Topic 1\n"
     ]
    }
   ],
   "source": [
    "# Find the most predominant topic for each document\n",
    "predominant_topics = lsa_topic_matrix.argmax(axis=1)\n",
    "\n",
    "print(\"\\nMost Predominant Topic for Each Document:\")\n",
    "for doc_idx, topic_idx in enumerate(predominant_topics):\n",
    "    print(f\"Document {doc_idx + 1}: Topic {topic_idx + 1}\")"
   ]
  },
  {
   "cell_type": "markdown",
   "metadata": {},
   "source": [
    "## LDA"
   ]
  },
  {
   "cell_type": "code",
   "execution_count": 42,
   "metadata": {},
   "outputs": [
    {
     "name": "stdout",
     "output_type": "stream",
     "text": [
      "Top features for each topic:\n",
      "Topic 1: to, more, slowdown, economic, the\n",
      "Topic 2: technology, awesome, is, of, learning\n",
      "Topic 3: the, movie, were, at, excited\n",
      "Topic 4: is, becoming, severe, like, food\n",
      "\n",
      "Top 2 topics: Topic 1, Topic 3\n",
      "\n",
      "Most Predominant Topic for Each Document:\n",
      "Document 1: Topic 4\n",
      "Document 2: Topic 3\n",
      "Document 3: Topic 4\n",
      "Document 4: Topic 4\n",
      "Document 5: Topic 2\n",
      "Document 6: Topic 3\n",
      "Document 7: Topic 1\n"
     ]
    }
   ],
   "source": [
    "from sklearn.feature_extraction.text import CountVectorizer\n",
    "from sklearn.decomposition import LatentDirichletAllocation\n",
    "import numpy as np\n",
    "\n",
    "# CountVectorizer\n",
    "count_vectorizer = CountVectorizer()\n",
    "count_matrix = count_vectorizer.fit_transform(my_docs)\n",
    "\n",
    "# LatentDirichletAllocation\n",
    "n_topics = 4\n",
    "lda_model = LatentDirichletAllocation(n_components=n_topics, random_state=42)\n",
    "lda_topic_matrix = lda_model.fit_transform(count_matrix)\n",
    "\n",
    "# Extract top features from each topic\n",
    "top_features = []\n",
    "for topic_idx, topic in enumerate(lda_model.components_):\n",
    "    top_feature_indices = topic.argsort()[::-1][:5]\n",
    "    top_feature_names = [count_vectorizer.get_feature_names_out()[index] for index in top_feature_indices]\n",
    "    top_features.append(top_feature_names)\n",
    "\n",
    "print(\"Top features for each topic:\")\n",
    "for i, features in enumerate(top_features):\n",
    "    print(f\"Topic {i + 1}: {', '.join(features)}\")\n",
    "\n",
    "# Name of the top n topics\n",
    "n_top_topics = 2\n",
    "top_topics_indices = np.argsort(np.max(lda_topic_matrix, axis=0))[::-1][:n_top_topics]\n",
    "top_topic_names = [f\"Topic {index + 1}\" for index in top_topics_indices]\n",
    "\n",
    "print(f\"\\nTop {n_top_topics} topics: {', '.join(top_topic_names)}\")\n",
    "\n",
    "# Label each document with the most predominant topic\n",
    "predominant_topics = lda_topic_matrix.argmax(axis=1)\n",
    "\n",
    "print(\"\\nMost Predominant Topic for Each Document:\")\n",
    "for doc_idx, topic_idx in enumerate(predominant_topics):\n",
    "    print(f\"Document {doc_idx + 1}: Topic {topic_idx + 1}\")"
   ]
  }
 ],
 "metadata": {
  "kernelspec": {
   "display_name": "Python 3",
   "language": "python",
   "name": "python3"
  },
  "language_info": {
   "codemirror_mode": {
    "name": "ipython",
    "version": 3
   },
   "file_extension": ".py",
   "mimetype": "text/x-python",
   "name": "python",
   "nbconvert_exporter": "python",
   "pygments_lexer": "ipython3",
   "version": "3.11.0"
  },
  "orig_nbformat": 4
 },
 "nbformat": 4,
 "nbformat_minor": 2
}
