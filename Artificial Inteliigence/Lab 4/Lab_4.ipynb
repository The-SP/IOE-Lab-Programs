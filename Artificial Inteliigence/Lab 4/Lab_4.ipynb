{
 "cells": [
  {
   "attachments": {},
   "cell_type": "markdown",
   "metadata": {},
   "source": [
    "# AI Lab 4 (Neural Networks)"
   ]
  },
  {
   "attachments": {},
   "cell_type": "markdown",
   "metadata": {},
   "source": [
    "1. Design a McCulloch-Pitts neural network which behaves as AND function using Adaline learning. Consider unipolar case. Perform analysis by varying NN parameters.\n"
   ]
  },
  {
   "cell_type": "code",
   "execution_count": 1,
   "metadata": {},
   "outputs": [
    {
     "name": "stdout",
     "output_type": "stream",
     "text": [
      "[0.0, 0.0, 0.0, 1.0]\n"
     ]
    }
   ],
   "source": [
    "weight = [0.5, 0.5]\n",
    "alpha = 0.2\n",
    "x_in = [[i, j] for i  in range(2) for j in range(2)]\n",
    "target = [0,0,0,1]\n",
    "y = [0,0,0,0]\n",
    "bias = [1,1,1,1]\n",
    "\n",
    "for i in range(10000):\n",
    "    for j in range(4):\n",
    "        y[j] = bias[j] + x_in[j][0]*weight[0] + x_in[j][1]*weight[1]\n",
    "        weight[0] += alpha * (target[j]-y[j])*x_in[j][0]\n",
    "        weight[0] += alpha * (target[j]-y[j])*x_in[j][1]\n",
    "        bias[j] += alpha * (target[j]-y[j])\n",
    "\n",
    "        \n",
    "output = [round(bias[j]+weight[0]*x_in[j][0]+weight[1]*x_in[j][1],5) for j in range(4)]\n",
    "print(output)\n"
   ]
  },
  {
   "attachments": {},
   "cell_type": "markdown",
   "metadata": {},
   "source": [
    "1.1. Changing Weights and learning rate"
   ]
  },
  {
   "cell_type": "code",
   "execution_count": 2,
   "metadata": {},
   "outputs": [
    {
     "name": "stdout",
     "output_type": "stream",
     "text": [
      "[0.0, 9.349246523159217e-17, 9.349246523159217e-17, 1.0000000000000004]\n"
     ]
    }
   ],
   "source": [
    "weight = [1,1]\n",
    "alpha = 0.8\n",
    "x_in = [[i,j] for i in range(2) for j in range(2)]\n",
    "target = [0,0,0,1]\n",
    "y = [0,0,0,0]\n",
    "bias = [1,1,1,1]\n",
    "\n",
    "for i in range(10000):\n",
    "    for j in range(4):\n",
    "        y[j] = bias[j]+x_in[j][0]*weight[0]+x_in[j][1]*weight[1]\n",
    "        weight[0] = weight[0] + alpha*(target[j]-y[j])*x_in[j][0]\n",
    "        weight[1] = weight[1] + alpha*(target[j]-y[j])*x_in[j][1]\n",
    "        bias[j] = bias[j] + alpha*(target[j]-y[j])\n",
    "\n",
    "output = [bias[j]+weight[0]*x_in[j][0]+weight[1]*x_in[j][1] for j in range(4)]\n",
    "print(output)\n"
   ]
  },
  {
   "attachments": {},
   "cell_type": "markdown",
   "metadata": {},
   "source": [
    "1.2. Changing weights"
   ]
  },
  {
   "cell_type": "code",
   "execution_count": 3,
   "metadata": {},
   "outputs": [
    {
     "name": "stdout",
     "output_type": "stream",
     "text": [
      "[0.0, -8.326672684688674e-16, -8.465450562766819e-16, 0.9999999999999989]\n"
     ]
    }
   ],
   "source": [
    "weight = [1,0.1]\n",
    "alpha = 0.8\n",
    "x_in = [[i,j] for i in range(2) for j in range(2)]\n",
    "target = [0,0,0,1]\n",
    "y = [0,0,0,0]\n",
    "bias = [1,1,1,1]\n",
    "for i in range(10000):\n",
    "    for j in range(4):\n",
    "        y[j] = bias[j]+x_in[j][0]*weight[0]+x_in[j][1]*weight[1]\n",
    "        weight[0] = weight[0] + alpha*(target[j]-y[j])*x_in[j][0]\n",
    "        weight[1] = weight[1] + alpha*(target[j]-y[j])*x_in[j][1]\n",
    "        bias[j] = bias[j] + alpha*(target[j]-y[j])\n",
    "\n",
    "output = [bias[j]+weight[0]*x_in[j][0]+weight[1]*x_in[j][1] for j in range(4)]\n",
    "print(output)\n"
   ]
  },
  {
   "attachments": {},
   "cell_type": "markdown",
   "metadata": {},
   "source": [
    "1.3. Changin learning rate: creating very low learning rate"
   ]
  },
  {
   "cell_type": "code",
   "execution_count": 4,
   "metadata": {},
   "outputs": [
    {
     "name": "stdout",
     "output_type": "stream",
     "text": [
      "[0.9900498287989168, 1.0676411248825624, 1.9498199132150345, 2.0373614109316134]\n"
     ]
    }
   ],
   "source": [
    "weight = [1,0.1]\n",
    "alpha = 0.000001\n",
    "x_in = [[i,j] for i in range(2) for j in range(2)]\n",
    "target = [0,0,0,1]\n",
    "y = [0,0,0,0]\n",
    "bias = [1,1,1,1]\n",
    "\n",
    "for i in range(10000):\n",
    "    for j in range(4):\n",
    "        y[j] = bias[j]+x_in[j][0]*weight[0]+x_in[j][1]*weight[1]\n",
    "        weight[0] = weight[0] + alpha*(target[j]-y[j])*x_in[j][0]\n",
    "        weight[1] = weight[1] + alpha*(target[j]-y[j])*x_in[j][1]\n",
    "        bias[j] = bias[j] + alpha*(target[j]-y[j])\n",
    "\n",
    "output = [bias[j]+weight[0]*x_in[j][0]+weight[1]*x_in[j][1] for j in range(4)]\n",
    "print(output)\n"
   ]
  },
  {
   "attachments": {},
   "cell_type": "markdown",
   "metadata": {},
   "source": [
    "2. Similarly develop a McCulloch-Pitts neural net for OR, NAND and NOR\n",
    "gate and draw neural nets.\n"
   ]
  },
  {
   "cell_type": "code",
   "execution_count": 10,
   "metadata": {},
   "outputs": [
    {
     "name": "stdout",
     "output_type": "stream",
     "text": [
      "OR Gate [0.0, 1.0, 1.0, 1.0]\n",
      "NAND Gate [1.0, 1.0, 1.0, 0.0]\n",
      "NOR Gate [1.0, 0.0, 0.0, -0.0]\n"
     ]
    }
   ],
   "source": [
    "weight = [1,1]\n",
    "alpha = 0.1\n",
    "x_in = [[i,j] for i in range(2) for j in range(2)]\n",
    "y = [0,0,0,0]\n",
    "bias = [1,1,1,1]\n",
    "\n",
    "def gate(target):\n",
    "    for i in range(10000):\n",
    "        for j in range(4):\n",
    "            y[j] = bias[j]+x_in[j][0]*weight[0]+x_in[j][1]*weight[1]\n",
    "            weight[0] = weight[0] + alpha*(target[j]-y[j])*x_in[j][0]\n",
    "            weight[1] = weight[1] + alpha*(target[j]-y[j])*x_in[j][1]\n",
    "            bias[j] = bias[j] + alpha*(target[j]-y[j])\n",
    "\n",
    "    output = [round(bias[j]+weight[0]*x_in[j][0]+weight[1]*x_in[j][1],5) for j in range(4)]\n",
    "    return output\n",
    "\n",
    "print(\"OR Gate\", gate([0,1,1,1]))\n",
    "print(\"NAND Gate\", gate([1,1,1,0]))\n",
    "print(\"NOR Gate\", gate([1,0,0,0]))"
   ]
  },
  {
   "attachments": {},
   "cell_type": "markdown",
   "metadata": {},
   "source": [
    "3. Bipolar Test"
   ]
  },
  {
   "cell_type": "code",
   "execution_count": 6,
   "metadata": {},
   "outputs": [
    {
     "name": "stdout",
     "output_type": "stream",
     "text": [
      "[-1.0, -1.0, -1.0, 1.0]\n"
     ]
    }
   ],
   "source": [
    "weight = [0.5,0.5]\n",
    "alpha = 0.2\n",
    "x_in = [[-1,-1],[-1,1],[1,-1],[1,1]]\n",
    "target = [-1,-1,-1,1]\n",
    "y = [0,0,0,0]\n",
    "bias = [1,1,1,1]\n",
    "\n",
    "for i in range(10000):\n",
    "    for j in range(4):\n",
    "        y[j] = bias[j]+x_in[j][0]*weight[0]+x_in[j][1]*weight[1]\n",
    "        weight[0] = weight[0] + alpha*(target[j]-y[j])*x_in[j][0]\n",
    "        weight[1] = weight[1] + alpha*(target[j]-y[j])*x_in[j][1]\n",
    "        bias[j] = bias[j] + alpha*(target[j]-y[j])\n",
    "\n",
    "output = [round(bias[j]+weight[0]*x_in[j][0]+weight[1]*x_in[j][1],5) for j in range(4)]\n",
    "print(output)"
   ]
  },
  {
   "attachments": {},
   "cell_type": "markdown",
   "metadata": {},
   "source": [
    "4. Backpropagation"
   ]
  },
  {
   "cell_type": "code",
   "execution_count": null,
   "metadata": {},
   "outputs": [],
   "source": [
    "import numpy as np \n",
    "\n",
    "def sigmoid (x):\n",
    "    return 1/(1 + np.exp(-x))\n",
    "\n",
    "def sigmoid_derivative(x):\n",
    "    return x * (1 - x)\n",
    "\n",
    "inputs = np.array([[0,0],[0,1],[1,0],[1,1]])\n",
    "target = np.array([[0],[1],[1],[0]])\n",
    "\n",
    "alpha = 0.1\n",
    "inputLayerNeurons = 2\n",
    "hiddenLayerNeurons = 2\n",
    "outputLayerNeurons = 1\n",
    "\n",
    "hidden_weights = [[0.5,0.5],[0.5,0.5]]\n",
    "hidden_bias =[0.5,0.5]\n",
    "output_weights = np.random.uniform(size=(2,1))\n",
    "output_bias = np.random.uniform(size=(1,outputLayerNeurons))\n",
    "\n",
    "for _ in range(10000):\n",
    "\n",
    "    hidden_layer_activation = np.dot(inputs,hidden_weights)\n",
    "    hidden_layer_activation += hidden_bias\n",
    "    hidden_layer_output = sigmoid(hidden_layer_activation)\n",
    "\n",
    "    output_layer_activation = np.dot(hidden_layer_output,output_weights)\n",
    "    output_layer_activation += output_bias\n",
    "    output = sigmoid(output_layer_activation)\n",
    "\n",
    "    error = target - output\n",
    "    d_output = error * sigmoid_derivative(output)\n",
    "    \n",
    "    error_hidden_layer = d_output.dot(output_weights.T)\n",
    "    d_hidden_layer = error_hidden_layer * sigmoid_derivative(hidden_layer_output)\n",
    "\n",
    "    output_weights += hidden_layer_output.T.dot(d_output) * alpha\n",
    "    output_bias += np.sum(d_output,axis=0,keepdims=True) * alpha\n",
    "    hidden_weights += inputs.T.dot(d_hidden_layer) * alpha\n",
    "    hidden_bias += np.sum(d_hidden_layer,axis=0,keepdims=True) * alpha\n",
    "\n",
    "print(output)"
   ]
  }
 ],
 "metadata": {
  "kernelspec": {
   "display_name": "Python 3",
   "language": "python",
   "name": "python3"
  },
  "language_info": {
   "codemirror_mode": {
    "name": "ipython",
    "version": 3
   },
   "file_extension": ".py",
   "mimetype": "text/x-python",
   "name": "python",
   "nbconvert_exporter": "python",
   "pygments_lexer": "ipython3",
   "version": "3.11.0"
  },
  "orig_nbformat": 4,
  "vscode": {
   "interpreter": {
    "hash": "7327234349f328ab3a62f9c6b9b9cea4308044be829a1e59b6f25eda3cc34a2b"
   }
  }
 },
 "nbformat": 4,
 "nbformat_minor": 2
}
